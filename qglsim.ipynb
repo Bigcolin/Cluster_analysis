{
 "cells": [
  {
   "cell_type": "code",
   "execution_count": 21,
   "metadata": {},
   "outputs": [
    {
     "name": "stderr",
     "output_type": "stream",
     "text": [
      "WARNING: replacing module qgplsim.\n"
     ]
    },
    {
     "data": {
      "text/plain": [
       "main (generic function with 2 methods)"
      ]
     },
     "execution_count": 21,
     "metadata": {},
     "output_type": "execute_result"
    }
   ],
   "source": [
    "α = [-1, 1]\n",
    "θ = [1, 1]\n",
    "# γ = [0, 0]\n",
    "# β = [0, -0]\n",
    "γ = [1, 1]\n",
    "β = [1, -0.5]\n",
    "\n",
    "include(\"model.ji\")"
   ]
  },
  {
   "cell_type": "code",
   "execution_count": 23,
   "metadata": {},
   "outputs": [
    {
     "name": "stdout",
     "output_type": "stream",
     "text": [
      "  4.460206 seconds (31.09 M allocations: 3.267 GiB, 29.20% gc time)\n"
     ]
    },
    {
     "data": {
      "text/plain": [
       "([0.8805340856509261, -0.3513621010881447], [0.5688491108546775 1.488121528748243])"
      ]
     },
     "execution_count": 23,
     "metadata": {},
     "output_type": "execute_result"
    }
   ],
   "source": [
    "n = 200\n",
    "p = length(α)\n",
    "@time main(γ, θ, α, β, n)"
   ]
  },
  {
   "cell_type": "code",
   "execution_count": 44,
   "metadata": {},
   "outputs": [],
   "source": [
    "Theta = zeros(100, p)\n",
    "Alpha = zeros(100, p)\n",
    "import Base.Threads.@threads"
   ]
  },
  {
   "cell_type": "code",
   "execution_count": 45,
   "metadata": {},
   "outputs": [
    {
     "name": "stdout",
     "output_type": "stream",
     "text": [
      "MC Computing time: 390.9887399673462\n",
      "[0.687943568402615 -7.9592538266731765]\n",
      "[46.29942926840183 93.46973510846844]\n"
     ]
    }
   ],
   "source": [
    "t = time()\n",
    "@threads for i in 1:5\n",
    "        for j in 1:20\n",
    "    Alpha[20*(i - 1) + j, :], Theta[20*(i - 1) + j, :] = main(γ, θ, α, β, n)\n",
    "    end\n",
    "end\n",
    "println(\"MC Computing time: \", time() - t)\n",
    "println(sum(Alpha, dims = 1))\n",
    "println(sum(Theta, dims = 1))"
   ]
  },
  {
   "cell_type": "code",
   "execution_count": 46,
   "metadata": {},
   "outputs": [
    {
     "data": {
      "text/plain": [
       "(Any[[-1.0, 1.0], [1.0, 1.0], [1.0, -1.0], [-1.0, -1.0]], Dict{Any,Any}([1.0, 1.0] => [2, 3, 5, 32, 35, 37, 38, 45, 57, 79, 93, 99],[-1.0, -1.0] => [7, 8, 10, 21, 25, 31, 47, 50, 53, 60, 62, 65, 70, 71, 74, 77, 85, 91, 95, 100],[-1.0, 1.0] => [1, 6, 12, 18, 20, 23, 29, 30, 36, 44  …  76, 80, 81, 84, 86, 87, 88, 92, 94, 98],[1.0, -1.0] => [4, 9, 11, 13, 14, 15, 16, 17, 19, 22  …  68, 72, 73, 78, 82, 83, 89, 90, 96, 97]), [1.0, -1.0])"
      ]
     },
     "execution_count": 46,
     "metadata": {},
     "output_type": "execute_result"
    }
   ],
   "source": [
    "ct, dc, mc = qgplsim.collection(sign.(Alpha))"
   ]
  },
  {
   "cell_type": "code",
   "execution_count": 47,
   "metadata": {},
   "outputs": [
    {
     "data": {
      "text/plain": [
       "2-element Array{Float64,1}:\n",
       "  1.0\n",
       " -1.0"
      ]
     },
     "execution_count": 47,
     "metadata": {},
     "output_type": "execute_result"
    }
   ],
   "source": [
    "mc"
   ]
  },
  {
   "cell_type": "code",
   "execution_count": 48,
   "metadata": {},
   "outputs": [
    {
     "data": {
      "text/plain": [
       "37×2 Array{Float64,2}:\n",
       " 0.592443  1.47331\n",
       " 0.615264  1.52076\n",
       " 0.790859  1.30904\n",
       " 0.976917  0.846437\n",
       " 0.939544  1.01859\n",
       " 0.901163  0.923416\n",
       " 0.934293  0.961157\n",
       " 0.932782  0.702972\n",
       " 0.770918  1.35022\n",
       " 0.558119  1.50611\n",
       " 0.929708  1.06897\n",
       " 0.98745   0.705064\n",
       " 0.595297  1.49611\n",
       " ⋮         \n",
       " 0.992793  0.897857\n",
       " 0.921297  0.65393\n",
       " 0.82858   1.10904\n",
       " 0.912367  1.00778\n",
       " 0.712054  1.41335\n",
       " 0.993132  1.00756\n",
       " 0.906642  0.989804\n",
       " 0.682379  1.40761\n",
       " 0.960423  0.845744\n",
       " 0.857391  0.748432\n",
       " 0.860143  1.05436\n",
       " 0.927323  0.687913"
      ]
     },
     "execution_count": 48,
     "metadata": {},
     "output_type": "execute_result"
    }
   ],
   "source": [
    "rAlpha = Alpha[dc[mc], :]\n",
    "rTheta = Theta[dc[mc], :]"
   ]
  },
  {
   "cell_type": "code",
   "execution_count": 49,
   "metadata": {},
   "outputs": [
    {
     "data": {
      "text/plain": [
       "1×2 Array{Float64,2}:\n",
       " 0.652736  -0.63019"
      ]
     },
     "execution_count": 49,
     "metadata": {},
     "output_type": "execute_result"
    }
   ],
   "source": [
    "sum(rAlpha, dims = 1)/37"
   ]
  },
  {
   "cell_type": "code",
   "execution_count": 50,
   "metadata": {},
   "outputs": [
    {
     "data": {
      "text/plain": [
       "1×2 Array{Float64,2}:\n",
       " 0.849753  1.07851"
      ]
     },
     "execution_count": 50,
     "metadata": {},
     "output_type": "execute_result"
    }
   ],
   "source": [
    "sum(rTheta, dims = 1)/37"
   ]
  },
  {
   "cell_type": "code",
   "execution_count": null,
   "metadata": {},
   "outputs": [],
   "source": []
  }
 ],
 "metadata": {
  "kernelspec": {
   "display_name": "Julia 1.5.3",
   "language": "julia",
   "name": "julia-1.5"
  },
  "language_info": {
   "file_extension": ".jl",
   "mimetype": "application/julia",
   "name": "julia",
   "version": "1.5.3"
  }
 },
 "nbformat": 4,
 "nbformat_minor": 5
}
