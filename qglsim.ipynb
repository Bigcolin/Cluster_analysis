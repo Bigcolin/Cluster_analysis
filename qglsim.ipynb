{
 "cells": [
  {
   "cell_type": "code",
   "execution_count": 87,
   "source": [
    "α = [-1, 2]\n",
    "θ = [2, 1]\n",
    "# γ = [0, 0]\n",
    "# β = [0, -0]\n",
    "γ = [1, 1]\n",
    "β = [1, -0.5]\n",
    "\n",
    "include(\"model.ji\")"
   ],
   "outputs": [
    {
     "output_type": "stream",
     "name": "stderr",
     "text": [
      "WARNING: replacing module qgplsim.\n"
     ]
    },
    {
     "output_type": "execute_result",
     "data": {
      "text/plain": [
       "main (generic function with 2 methods)"
      ]
     },
     "metadata": {},
     "execution_count": 87
    }
   ],
   "metadata": {}
  },
  {
   "cell_type": "code",
   "execution_count": 94,
   "source": [
    "n = 400\n",
    "p = length(α)\n",
    "@time main(γ, θ, α, β, n)"
   ],
   "outputs": [
    {
     "output_type": "stream",
     "name": "stdout",
     "text": [
      "  3.672292 seconds (64.02 M allocations: 6.778 GiB, 23.91% gc time)\n"
     ]
    },
    {
     "output_type": "execute_result",
     "data": {
      "text/plain": [
       "([0.39371593344895534, -0.8466088548420829], [1.9112949724982025 0.9844706418553797])"
      ]
     },
     "metadata": {},
     "execution_count": 94
    }
   ],
   "metadata": {}
  },
  {
   "cell_type": "code",
   "execution_count": 95,
   "source": [
    "Theta = zeros(100, p)\n",
    "Alpha = zeros(100, p)\n",
    "import Base.Threads.@threads"
   ],
   "outputs": [],
   "metadata": {}
  },
  {
   "cell_type": "code",
   "execution_count": 96,
   "source": [
    "t = time()\n",
    "len = 50\n",
    "@threads for i in 1:2\n",
    "        for j in 1:len\n",
    "    Alpha[len*(i - 1) + j, :], Theta[len*(i - 1) + j, :] = main(γ, θ, α, β, n)\n",
    "    end\n",
    "end\n",
    "println(\"MC Computing time: \", time() - t)\n",
    "println(sum(Alpha, dims = 1))\n",
    "println(sum(Theta, dims = 1))"
   ],
   "outputs": [
    {
     "output_type": "stream",
     "name": "stdout",
     "text": [
      "MC Computing time: 323.4554908275604\n",
      "[-2.700128727061028 -1.6154989372956057]\n",
      "[172.30625706533854 127.94480447227332]\n"
     ]
    }
   ],
   "metadata": {}
  },
  {
   "cell_type": "code",
   "execution_count": 97,
   "source": [
    "ct, dc, mc = qgplsim.collection(sign.(Alpha))"
   ],
   "outputs": [
    {
     "output_type": "execute_result",
     "data": {
      "text/plain": [
       "(Any[[1.0, -1.0], [-1.0, 1.0], [1.0, 1.0], [-1.0, -1.0]], Dict{Any, Any}([-1.0, -1.0] => [15, 17, 32, 55, 61, 67, 71], [1.0, -1.0] => [1, 7, 8, 9, 11, 12, 13, 16, 20, 25  …  80, 86, 88, 89, 90, 91, 93, 94, 98, 100], [-1.0, 1.0] => [2, 3, 5, 6, 10, 14, 18, 19, 21, 22  …  82, 83, 84, 85, 87, 92, 95, 96, 97, 99], [1.0, 1.0] => [4, 23]), [-1.0, 1.0])"
      ]
     },
     "metadata": {},
     "execution_count": 97
    }
   ],
   "metadata": {}
  },
  {
   "cell_type": "code",
   "execution_count": 98,
   "source": [
    "mc"
   ],
   "outputs": [
    {
     "output_type": "execute_result",
     "data": {
      "text/plain": [
       "2-element Vector{Float64}:\n",
       " -1.0\n",
       "  1.0"
      ]
     },
     "metadata": {},
     "execution_count": 98
    }
   ],
   "metadata": {}
  },
  {
   "cell_type": "code",
   "execution_count": 99,
   "source": [
    "rAlpha = Alpha[dc[mc], :]\n",
    "rTheta = Theta[dc[mc], :]\n",
    "ns, = size(rAlpha)"
   ],
   "outputs": [
    {
     "output_type": "execute_result",
     "data": {
      "text/plain": [
       "(46, 2)"
      ]
     },
     "metadata": {},
     "execution_count": 99
    }
   ],
   "metadata": {}
  },
  {
   "cell_type": "code",
   "execution_count": 100,
   "source": [
    "sum(rAlpha, dims = 1)/ns"
   ],
   "outputs": [
    {
     "output_type": "execute_result",
     "data": {
      "text/plain": [
       "1×2 Matrix{Float64}:\n",
       " -0.513305  0.77423"
      ]
     },
     "metadata": {},
     "execution_count": 100
    }
   ],
   "metadata": {}
  },
  {
   "cell_type": "code",
   "execution_count": 101,
   "source": [
    "sum(rTheta, dims = 1)/ns"
   ],
   "outputs": [
    {
     "output_type": "execute_result",
     "data": {
      "text/plain": [
       "1×2 Matrix{Float64}:\n",
       " 1.88714  1.34862"
      ]
     },
     "metadata": {},
     "execution_count": 101
    }
   ],
   "metadata": {}
  },
  {
   "cell_type": "code",
   "execution_count": 102,
   "source": [
    "rAlpha"
   ],
   "outputs": [
    {
     "output_type": "execute_result",
     "data": {
      "text/plain": [
       "46×2 Matrix{Float64}:\n",
       " -0.377318  0.839499\n",
       " -0.46092   0.846883\n",
       " -0.468893  0.814145\n",
       " -0.485088  0.743328\n",
       " -0.328247  0.896704\n",
       " -0.640363  0.626013\n",
       " -0.473226  0.810604\n",
       " -0.466657  0.841857\n",
       " -0.657547  0.640302\n",
       " -0.544418  0.751497\n",
       " -0.653704  0.666701\n",
       " -0.50047   0.844559\n",
       " -0.533772  0.679421\n",
       "  ⋮         \n",
       " -0.600642  0.74625\n",
       " -0.410455  0.895524\n",
       " -0.521948  0.775801\n",
       " -0.556154  0.734452\n",
       " -0.550869  0.79537\n",
       " -0.686815  0.638778\n",
       " -0.592428  0.679409\n",
       " -0.532023  0.79154\n",
       " -0.538158  0.751023\n",
       " -0.237888  0.958567\n",
       " -0.700856  0.631538\n",
       " -0.700164  0.55606"
      ]
     },
     "metadata": {},
     "execution_count": 102
    }
   ],
   "metadata": {}
  },
  {
   "cell_type": "code",
   "execution_count": 103,
   "source": [],
   "outputs": [
    {
     "output_type": "stream",
     "name": "stdout",
     "text": [
      "search: \u001b[0m\u001b[1mm\u001b[22m\u001b[0m\u001b[1me\u001b[22m\u001b[0m\u001b[1mr\u001b[22m\u001b[0m\u001b[1mg\u001b[22m\u001b[0m\u001b[1me\u001b[22m \u001b[0m\u001b[1mm\u001b[22m\u001b[0m\u001b[1me\u001b[22m\u001b[0m\u001b[1mr\u001b[22m\u001b[0m\u001b[1mg\u001b[22m\u001b[0m\u001b[1me\u001b[22m! \u001b[0m\u001b[1mm\u001b[22m\u001b[0m\u001b[1me\u001b[22m\u001b[0m\u001b[1mr\u001b[22m\u001b[0m\u001b[1mg\u001b[22m\u001b[0m\u001b[1me\u001b[22mwith \u001b[0m\u001b[1mm\u001b[22m\u001b[0m\u001b[1me\u001b[22m\u001b[0m\u001b[1mr\u001b[22m\u001b[0m\u001b[1mg\u001b[22m\u001b[0m\u001b[1me\u001b[22mwith! \u001b[0m\u001b[1mM\u001b[22m\u001b[0m\u001b[1me\u001b[22m\u001b[0m\u001b[1mr\u001b[22m\u001b[0m\u001b[1mg\u001b[22m\u001b[0m\u001b[1me\u001b[22mSort\n",
      "\n"
     ]
    },
    {
     "output_type": "execute_result",
     "data": {
      "text/plain": [
       "\u001b[36m  merge(d::AbstractDict, others::AbstractDict...)\u001b[39m\n",
       "\n",
       "  Construct a merged collection from the given collections. If necessary, the\n",
       "  types of the resulting collection will be promoted to accommodate the types\n",
       "  of the merged collections. If the same key is present in another collection,\n",
       "  the value for that key will be the value it has in the last collection\n",
       "  listed. See also \u001b[36mmergewith\u001b[39m for custom handling of values with the same key.\n",
       "\n",
       "\u001b[1m  Examples\u001b[22m\n",
       "\u001b[1m  ≡≡≡≡≡≡≡≡≡≡\u001b[22m\n",
       "\n",
       "\u001b[36m  julia> a = Dict(\"foo\" => 0.0, \"bar\" => 42.0)\u001b[39m\n",
       "\u001b[36m  Dict{String, Float64} with 2 entries:\u001b[39m\n",
       "\u001b[36m    \"bar\" => 42.0\u001b[39m\n",
       "\u001b[36m    \"foo\" => 0.0\u001b[39m\n",
       "\u001b[36m  \u001b[39m\n",
       "\u001b[36m  julia> b = Dict(\"baz\" => 17, \"bar\" => 4711)\u001b[39m\n",
       "\u001b[36m  Dict{String, Int64} with 2 entries:\u001b[39m\n",
       "\u001b[36m    \"bar\" => 4711\u001b[39m\n",
       "\u001b[36m    \"baz\" => 17\u001b[39m\n",
       "\u001b[36m  \u001b[39m\n",
       "\u001b[36m  julia> merge(a, b)\u001b[39m\n",
       "\u001b[36m  Dict{String, Float64} with 3 entries:\u001b[39m\n",
       "\u001b[36m    \"bar\" => 4711.0\u001b[39m\n",
       "\u001b[36m    \"baz\" => 17.0\u001b[39m\n",
       "\u001b[36m    \"foo\" => 0.0\u001b[39m\n",
       "\u001b[36m  \u001b[39m\n",
       "\u001b[36m  julia> merge(b, a)\u001b[39m\n",
       "\u001b[36m  Dict{String, Float64} with 3 entries:\u001b[39m\n",
       "\u001b[36m    \"bar\" => 42.0\u001b[39m\n",
       "\u001b[36m    \"baz\" => 17.0\u001b[39m\n",
       "\u001b[36m    \"foo\" => 0.0\u001b[39m\n",
       "\n",
       "  ────────────────────────────────────────────────────────────────────────────\n",
       "\n",
       "\u001b[36m  merge(a::NamedTuple, bs::NamedTuple...)\u001b[39m\n",
       "\n",
       "  Construct a new named tuple by merging two or more existing ones, in a\n",
       "  left-associative manner. Merging proceeds left-to-right, between pairs of\n",
       "  named tuples, and so the order of fields present in both the leftmost and\n",
       "  rightmost named tuples take the same position as they are found in the\n",
       "  leftmost named tuple. However, values are taken from matching fields in the\n",
       "  rightmost named tuple that contains that field. Fields present in only the\n",
       "  rightmost named tuple of a pair are appended at the end. A fallback is\n",
       "  implemented for when only a single named tuple is supplied, with signature\n",
       "  \u001b[36mmerge(a::NamedTuple)\u001b[39m.\n",
       "\n",
       "\u001b[39m\u001b[1m  │ \u001b[22m\u001b[39m\u001b[1mJulia 1.1\u001b[22m\n",
       "\u001b[39m\u001b[1m  │\u001b[22m\n",
       "\u001b[39m\u001b[1m  │\u001b[22m  Merging 3 or more \u001b[36mNamedTuple\u001b[39m requires at least Julia 1.1.\n",
       "\n",
       "\u001b[1m  Examples\u001b[22m\n",
       "\u001b[1m  ≡≡≡≡≡≡≡≡≡≡\u001b[22m\n",
       "\n",
       "\u001b[36m  julia> merge((a=1, b=2, c=3), (b=4, d=5))\u001b[39m\n",
       "\u001b[36m  (a = 1, b = 4, c = 3, d = 5)\u001b[39m\n",
       "\n",
       "\u001b[36m  julia> merge((a=1, b=2), (b=3, c=(d=1,)), (c=(d=2,),))\u001b[39m\n",
       "\u001b[36m  (a = 1, b = 3, c = (d = 2,))\u001b[39m\n",
       "\n",
       "  ────────────────────────────────────────────────────────────────────────────\n",
       "\n",
       "\u001b[36m  merge(a::NamedTuple, iterable)\u001b[39m\n",
       "\n",
       "  Interpret an iterable of key-value pairs as a named tuple, and perform a\n",
       "  merge.\n",
       "\n",
       "\u001b[36m  julia> merge((a=1, b=2, c=3), [:b=>4, :d=>5])\u001b[39m\n",
       "\u001b[36m  (a = 1, b = 4, c = 3, d = 5)\u001b[39m\n",
       "\n",
       "  ────────────────────────────────────────────────────────────────────────────\n",
       "\n",
       "\u001b[36m   merge(counters...)\u001b[39m\n",
       "\n",
       "  Creates a new counter with total counts equal to the sum of the counts in\n",
       "  the counters given as arguments.\n",
       "\n",
       "  See also merge!\n",
       "\n",
       "  ────────────────────────────────────────────────────────────────────────────\n",
       "\n",
       "\u001b[36m  merge(sc1, sc2...)\u001b[39m\n",
       "\n",
       "  This returns a SortedDict or SortedMultiDict that results from merging\n",
       "  SortedDicts or SortedMultiDicts \u001b[36msc1\u001b[39m, \u001b[36msc2\u001b[39m, etc., which all must have the same\n",
       "  key-value-ordering types. In the case of keys duplicated among the\n",
       "  arguments, the rightmost argument that owns the key gets its value stored\n",
       "  for SortedDict. In the case of SortedMultiDict all the key-value pairs are\n",
       "  stored, and for keys shared between \u001b[36msc1\u001b[39m and \u001b[36msc2\u001b[39m the ordering is\n",
       "  left-to-right. This function is not available for SortedSet, but the \u001b[36munion\u001b[39m\n",
       "  function (see below) provides equivalent functionality. Time: O(\u001b[4mcN\u001b[24m log \u001b[4mN\u001b[24m),\n",
       "  where \u001b[4mN\u001b[24m is the total size of all the arguments.\n",
       "\n",
       "  ────────────────────────────────────────────────────────────────────────────\n",
       "\n",
       "\u001b[36m  merge(sc1, sc2...)\u001b[39m\n",
       "\n",
       "  This returns a SortedDict or SortedMultiDict that results from merging\n",
       "  SortedDicts or SortedMultiDicts \u001b[36msc1\u001b[39m, \u001b[36msc2\u001b[39m, etc., which all must have the same\n",
       "  key-value-ordering types. In the case of keys duplicated among the\n",
       "  arguments, the rightmost argument that owns the key gets its value stored\n",
       "  for SortedDict. In the case of SortedMultiDict all the key-value pairs are\n",
       "  stored, and for keys shared between \u001b[36msc1\u001b[39m and \u001b[36msc2\u001b[39m the ordering is\n",
       "  left-to-right. This function is not available for SortedSet, but the \u001b[36munion\u001b[39m\n",
       "  function (see below) provides equivalent functionality. Time: O(\u001b[4mcN\u001b[24m log \u001b[4mN\u001b[24m),\n",
       "  where \u001b[4mN\u001b[24m is the total size of all the arguments.\n",
       "\n",
       "  ────────────────────────────────────────────────────────────────────────────\n",
       "\n",
       "\u001b[36m  merge(h::Histogram, others::Histogram...)\u001b[39m\n",
       "\n",
       "  Construct a new histogram by merging \u001b[36mh\u001b[39m with \u001b[36mothers\u001b[39m. All histograms must have\n",
       "  the same binning, shape of weights and properties (\u001b[36mclosed\u001b[39m and \u001b[36misdensity\u001b[39m).\n",
       "  The weights of all histograms are summed up for each bin, the weights of the\n",
       "  resulting histogram will have the same type as those of \u001b[36mh\u001b[39m."
      ],
      "text/markdown": [
       "```\n",
       "merge(d::AbstractDict, others::AbstractDict...)\n",
       "```\n",
       "\n",
       "Construct a merged collection from the given collections. If necessary, the types of the resulting collection will be promoted to accommodate the types of the merged collections. If the same key is present in another collection, the value for that key will be the value it has in the last collection listed. See also [`mergewith`](@ref) for custom handling of values with the same key.\n",
       "\n",
       "# Examples\n",
       "\n",
       "```jldoctest\n",
       "julia> a = Dict(\"foo\" => 0.0, \"bar\" => 42.0)\n",
       "Dict{String, Float64} with 2 entries:\n",
       "  \"bar\" => 42.0\n",
       "  \"foo\" => 0.0\n",
       "\n",
       "julia> b = Dict(\"baz\" => 17, \"bar\" => 4711)\n",
       "Dict{String, Int64} with 2 entries:\n",
       "  \"bar\" => 4711\n",
       "  \"baz\" => 17\n",
       "\n",
       "julia> merge(a, b)\n",
       "Dict{String, Float64} with 3 entries:\n",
       "  \"bar\" => 4711.0\n",
       "  \"baz\" => 17.0\n",
       "  \"foo\" => 0.0\n",
       "\n",
       "julia> merge(b, a)\n",
       "Dict{String, Float64} with 3 entries:\n",
       "  \"bar\" => 42.0\n",
       "  \"baz\" => 17.0\n",
       "  \"foo\" => 0.0\n",
       "```\n",
       "\n",
       "---\n",
       "\n",
       "```\n",
       "merge(a::NamedTuple, bs::NamedTuple...)\n",
       "```\n",
       "\n",
       "Construct a new named tuple by merging two or more existing ones, in a left-associative manner. Merging proceeds left-to-right, between pairs of named tuples, and so the order of fields present in both the leftmost and rightmost named tuples take the same position as they are found in the leftmost named tuple. However, values are taken from matching fields in the rightmost named tuple that contains that field. Fields present in only the rightmost named tuple of a pair are appended at the end. A fallback is implemented for when only a single named tuple is supplied, with signature `merge(a::NamedTuple)`.\n",
       "\n",
       "!!! compat \"Julia 1.1\"\n",
       "    Merging 3 or more `NamedTuple` requires at least Julia 1.1.\n",
       "\n",
       "\n",
       "# Examples\n",
       "\n",
       "```jldoctest\n",
       "julia> merge((a=1, b=2, c=3), (b=4, d=5))\n",
       "(a = 1, b = 4, c = 3, d = 5)\n",
       "```\n",
       "\n",
       "```jldoctest\n",
       "julia> merge((a=1, b=2), (b=3, c=(d=1,)), (c=(d=2,),))\n",
       "(a = 1, b = 3, c = (d = 2,))\n",
       "```\n",
       "\n",
       "---\n",
       "\n",
       "```\n",
       "merge(a::NamedTuple, iterable)\n",
       "```\n",
       "\n",
       "Interpret an iterable of key-value pairs as a named tuple, and perform a merge.\n",
       "\n",
       "```jldoctest\n",
       "julia> merge((a=1, b=2, c=3), [:b=>4, :d=>5])\n",
       "(a = 1, b = 4, c = 3, d = 5)\n",
       "```\n",
       "\n",
       "---\n",
       "\n",
       "```\n",
       " merge(counters...)\n",
       "```\n",
       "\n",
       "Creates a new counter with total counts equal to the sum of the counts in the counters given as arguments.\n",
       "\n",
       "See also merge!\n",
       "\n",
       "---\n",
       "\n",
       "```\n",
       "merge(sc1, sc2...)\n",
       "```\n",
       "\n",
       "This returns a SortedDict or SortedMultiDict that results from merging SortedDicts or SortedMultiDicts `sc1`, `sc2`, etc., which all must have the same key-value-ordering types. In the case of keys duplicated among the arguments, the rightmost argument that owns the key gets its value stored for SortedDict. In the case of SortedMultiDict all the key-value pairs are stored, and for keys shared between `sc1` and `sc2` the ordering is left-to-right. This function is not available for SortedSet, but the `union` function (see below) provides equivalent functionality. Time: O(*cN* log *N*), where *N* is the total size of all the arguments.\n",
       "\n",
       "---\n",
       "\n",
       "```\n",
       "merge(sc1, sc2...)\n",
       "```\n",
       "\n",
       "This returns a SortedDict or SortedMultiDict that results from merging SortedDicts or SortedMultiDicts `sc1`, `sc2`, etc., which all must have the same key-value-ordering types. In the case of keys duplicated among the arguments, the rightmost argument that owns the key gets its value stored for SortedDict. In the case of SortedMultiDict all the key-value pairs are stored, and for keys shared between `sc1` and `sc2` the ordering is left-to-right. This function is not available for SortedSet, but the `union` function (see below) provides equivalent functionality. Time: O(*cN* log *N*), where *N* is the total size of all the arguments.\n",
       "\n",
       "---\n",
       "\n",
       "```\n",
       "merge(h::Histogram, others::Histogram...)\n",
       "```\n",
       "\n",
       "Construct a new histogram by merging `h` with `others`. All histograms must have the same binning, shape of weights and properties (`closed` and `isdensity`). The weights of all histograms are summed up for each bin, the weights of the resulting histogram will have the same type as those of `h`.\n"
      ],
      "text/latex": [
       "\\begin{verbatim}\n",
       "merge(d::AbstractDict, others::AbstractDict...)\n",
       "\\end{verbatim}\n",
       "Construct a merged collection from the given collections. If necessary, the types of the resulting collection will be promoted to accommodate the types of the merged collections. If the same key is present in another collection, the value for that key will be the value it has in the last collection listed. See also \\href{@ref}{\\texttt{mergewith}} for custom handling of values with the same key.\n",
       "\n",
       "\\section{Examples}\n",
       "\\begin{verbatim}\n",
       "julia> a = Dict(\"foo\" => 0.0, \"bar\" => 42.0)\n",
       "Dict{String, Float64} with 2 entries:\n",
       "  \"bar\" => 42.0\n",
       "  \"foo\" => 0.0\n",
       "\n",
       "julia> b = Dict(\"baz\" => 17, \"bar\" => 4711)\n",
       "Dict{String, Int64} with 2 entries:\n",
       "  \"bar\" => 4711\n",
       "  \"baz\" => 17\n",
       "\n",
       "julia> merge(a, b)\n",
       "Dict{String, Float64} with 3 entries:\n",
       "  \"bar\" => 4711.0\n",
       "  \"baz\" => 17.0\n",
       "  \"foo\" => 0.0\n",
       "\n",
       "julia> merge(b, a)\n",
       "Dict{String, Float64} with 3 entries:\n",
       "  \"bar\" => 42.0\n",
       "  \"baz\" => 17.0\n",
       "  \"foo\" => 0.0\n",
       "\\end{verbatim}\n",
       "\\rule{\\textwidth}{1pt}\n",
       "\\begin{verbatim}\n",
       "merge(a::NamedTuple, bs::NamedTuple...)\n",
       "\\end{verbatim}\n",
       "Construct a new named tuple by merging two or more existing ones, in a left-associative manner. Merging proceeds left-to-right, between pairs of named tuples, and so the order of fields present in both the leftmost and rightmost named tuples take the same position as they are found in the leftmost named tuple. However, values are taken from matching fields in the rightmost named tuple that contains that field. Fields present in only the rightmost named tuple of a pair are appended at the end. A fallback is implemented for when only a single named tuple is supplied, with signature \\texttt{merge(a::NamedTuple)}.\n",
       "\n",
       "\\begin{quote}\n",
       "\\textbf{compat}\n",
       "\n",
       "Julia 1.1\n",
       "\n",
       "Merging 3 or more \\texttt{NamedTuple} requires at least Julia 1.1.\n",
       "\n",
       "\\end{quote}\n",
       "\\section{Examples}\n",
       "\\begin{verbatim}\n",
       "julia> merge((a=1, b=2, c=3), (b=4, d=5))\n",
       "(a = 1, b = 4, c = 3, d = 5)\n",
       "\\end{verbatim}\n",
       "\\begin{verbatim}\n",
       "julia> merge((a=1, b=2), (b=3, c=(d=1,)), (c=(d=2,),))\n",
       "(a = 1, b = 3, c = (d = 2,))\n",
       "\\end{verbatim}\n",
       "\\rule{\\textwidth}{1pt}\n",
       "\\begin{verbatim}\n",
       "merge(a::NamedTuple, iterable)\n",
       "\\end{verbatim}\n",
       "Interpret an iterable of key-value pairs as a named tuple, and perform a merge.\n",
       "\n",
       "\\begin{verbatim}\n",
       "julia> merge((a=1, b=2, c=3), [:b=>4, :d=>5])\n",
       "(a = 1, b = 4, c = 3, d = 5)\n",
       "\\end{verbatim}\n",
       "\\rule{\\textwidth}{1pt}\n",
       "\\begin{verbatim}\n",
       " merge(counters...)\n",
       "\\end{verbatim}\n",
       "Creates a new counter with total counts equal to the sum of the counts in the counters given as arguments.\n",
       "\n",
       "See also merge!\n",
       "\n",
       "\\rule{\\textwidth}{1pt}\n",
       "\\begin{verbatim}\n",
       "merge(sc1, sc2...)\n",
       "\\end{verbatim}\n",
       "This returns a SortedDict or SortedMultiDict that results from merging SortedDicts or SortedMultiDicts \\texttt{sc1}, \\texttt{sc2}, etc., which all must have the same key-value-ordering types. In the case of keys duplicated among the arguments, the rightmost argument that owns the key gets its value stored for SortedDict. In the case of SortedMultiDict all the key-value pairs are stored, and for keys shared between \\texttt{sc1} and \\texttt{sc2} the ordering is left-to-right. This function is not available for SortedSet, but the \\texttt{union} function (see below) provides equivalent functionality. Time: O(\\emph{cN} log \\emph{N}), where \\emph{N} is the total size of all the arguments.\n",
       "\n",
       "\\rule{\\textwidth}{1pt}\n",
       "\\begin{verbatim}\n",
       "merge(sc1, sc2...)\n",
       "\\end{verbatim}\n",
       "This returns a SortedDict or SortedMultiDict that results from merging SortedDicts or SortedMultiDicts \\texttt{sc1}, \\texttt{sc2}, etc., which all must have the same key-value-ordering types. In the case of keys duplicated among the arguments, the rightmost argument that owns the key gets its value stored for SortedDict. In the case of SortedMultiDict all the key-value pairs are stored, and for keys shared between \\texttt{sc1} and \\texttt{sc2} the ordering is left-to-right. This function is not available for SortedSet, but the \\texttt{union} function (see below) provides equivalent functionality. Time: O(\\emph{cN} log \\emph{N}), where \\emph{N} is the total size of all the arguments.\n",
       "\n",
       "\\rule{\\textwidth}{1pt}\n",
       "\\begin{verbatim}\n",
       "merge(h::Histogram, others::Histogram...)\n",
       "\\end{verbatim}\n",
       "Construct a new histogram by merging \\texttt{h} with \\texttt{others}. All histograms must have the same binning, shape of weights and properties (\\texttt{closed} and \\texttt{isdensity}). The weights of all histograms are summed up for each bin, the weights of the resulting histogram will have the same type as those of \\texttt{h}.\n",
       "\n"
      ]
     },
     "metadata": {},
     "execution_count": 103
    }
   ],
   "metadata": {}
  },
  {
   "cell_type": "code",
   "execution_count": null,
   "source": [],
   "outputs": [],
   "metadata": {}
  }
 ],
 "metadata": {
  "kernelspec": {
   "display_name": "Julia 1.5.3",
   "language": "julia",
   "name": "julia-1.5"
  },
  "language_info": {
   "file_extension": ".jl",
   "mimetype": "application/julia",
   "name": "julia",
   "version": "1.5.3"
  }
 },
 "nbformat": 4,
 "nbformat_minor": 5
}