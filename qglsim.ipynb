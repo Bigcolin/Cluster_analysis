{
 "cells": [
  {
   "cell_type": "code",
   "execution_count": 1,
   "metadata": {},
   "outputs": [
    {
     "data": {
      "text/plain": [
       "main (generic function with 2 methods)"
      ]
     },
     "execution_count": 1,
     "metadata": {},
     "output_type": "execute_result"
    }
   ],
   "source": [
    "α = [-1, 1]\n",
    "θ = [1, 1]\n",
    "# γ = [0, 0]\n",
    "# β = [0, -0]\n",
    "γ = [1, 1]\n",
    "β = [1, -0.5]\n",
    "\n",
    "include(\"model.ji\")"
   ]
  },
  {
   "cell_type": "code",
   "execution_count": 4,
   "metadata": {},
   "outputs": [
    {
     "name": "stdout",
     "output_type": "stream",
     "text": [
      "alpha => [0.7728514828563892, -0.5331682680215406]\n",
      "theta =>[0.8466634491836434 1.3375046997045865]\n",
      "\n",
      "  4.658305 seconds (33.97 M allocations: 3.556 GiB, 25.02% gc time)\n"
     ]
    },
    {
     "data": {
      "text/plain": [
       "([0.7728514828563892, -0.5331682680215406], [0.8466634491836434 1.3375046997045865])"
      ]
     },
     "execution_count": 4,
     "metadata": {},
     "output_type": "execute_result"
    }
   ],
   "source": [
    "n = 200\n",
    "p = length(α)\n",
    "@time main(γ, θ, α, β, n)"
   ]
  },
  {
   "cell_type": "code",
   "execution_count": 5,
   "metadata": {},
   "outputs": [],
   "source": [
    "Theta = zeros(100, p)\n",
    "Alpha = zeros(100, p)\n",
    "import Base.Threads.@threads"
   ]
  },
  {
   "cell_type": "code",
   "execution_count": null,
   "metadata": {},
   "outputs": [
    {
     "name": "stdout",
     "output_type": "stream",
     "text": [
      "alpha => [-0.821088293779452, 0.4595974213546458]\n",
      "theta =>[0.7354484447007578 1.395901982634814]\n",
      "\n",
      "alpha => [-0.5449261110222064, 0.7294471994096281]\n",
      "theta =>[0.9140320770690089 0.907594417936869]\n",
      "\n",
      "alpha => [-0.6719551543851806, 0.6292748640817277]\n",
      "theta =>[0.9140738965816725 1.1622493822087079]\n",
      "\n",
      "alpha => [0.5456864915691793, -0.7039586204940378]\n",
      "theta =>[0.8940342082950703 0.9445720564485288]\n",
      "\n",
      "alpha => [-0.44996184107090886, -0.8501284091965434]\n",
      "theta =>[-0.36005106777539564 0.3233514967060495]\n",
      "\n",
      "alpha => [-0.4656163941534763, -0.7413603956003252]\n",
      "theta =>[-0.129221970565087 0.503216674443741]\n",
      "\n",
      "alpha => [-0.8650423207115696, -0.3874609716184891]\n",
      "theta =>[-0.4348248990946642 1.2256272486033737]\n",
      "\n",
      "alpha => [0.5490587203118377, 0.6941137695265878]\n",
      "theta =>[-0.3055726134358803 0.6722723568624147]\n",
      "\n",
      "alpha => [-0.7485570362483188, 0.6209804893302319]\n",
      "theta =>[0.8634457315304066 1.1008326387758298]\n",
      "\n",
      "alpha => [0.7768777908586277, -0.41883676530109604]\n",
      "theta =>[0.7273417829441368 1.534543707453562]\n",
      "\n",
      "alpha => [-0.4169243394820464, -0.8230429117881957]\n",
      "theta =>[-0.20049415408062587 0.3728316085288465]\n",
      "\n",
      "alpha => [0.4305450639376546, 0.7881893153535924]\n",
      "theta =>[-0.22387956959393926 0.5007079841954905]\n",
      "\n",
      "alpha => "
     ]
    }
   ],
   "source": [
    "t = time()\n",
    "@threads for i in 1:10\n",
    "        for j in 1:10\n",
    "    Alpha[10*(i - 1) + j, :], Theta[10*(i - 1) + j, :] = main(γ, θ, α, β, n)\n",
    "    end\n",
    "end\n",
    "println(\"MC Computing time: \", time() - t)\n",
    "println(sum(Alpha, dims = 1))\n",
    "println(sum(Theta, dims = 1))"
   ]
  },
  {
   "cell_type": "code",
   "execution_count": null,
   "metadata": {},
   "outputs": [],
   "source": []
  }
 ],
 "metadata": {
  "kernelspec": {
   "display_name": "Julia 1.5.3",
   "language": "julia",
   "name": "julia-1.5"
  },
  "language_info": {
   "file_extension": ".jl",
   "mimetype": "application/julia",
   "name": "julia",
   "version": "1.5.3"
  }
 },
 "nbformat": 4,
 "nbformat_minor": 5
}
