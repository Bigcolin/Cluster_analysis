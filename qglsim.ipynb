{
 "cells": [
  {
   "cell_type": "code",
   "execution_count": null,
   "id": "greenhouse-convenience",
   "metadata": {},
   "outputs": [],
   "source": [
    "include(\"DGP.ji\")\n",
    "include(\"estimator.ji\")\n",
    "\n",
    "nSample = 100\n",
    "\n",
    "γ = [1, 1]\n",
    "θ = [1, 1]\n",
    "α = [1, -1]\n",
    "β = [1, -0.5]\n",
    "X, Z, y = dgp(nSample, γ, θ, α, β)\n",
    "\n",
    "\n",
    "alpha, theta, alpha_z, theta_z = qglsim.alphatheta_estimator(X, Z, y)"
   ]
  }
 ],
 "metadata": {
  "kernelspec": {
   "display_name": "Julia 1.6.0",
   "language": "julia",
   "name": "julia-1.6"
  },
  "language_info": {
   "file_extension": ".jl",
   "mimetype": "application/julia",
   "name": "julia",
   "version": "1.6.0"
  }
 },
 "nbformat": 4,
 "nbformat_minor": 5
}
