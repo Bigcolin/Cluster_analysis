{
 "cells": [
  {
   "cell_type": "code",
   "execution_count": 20,
   "source": [
    "α = [-1, 2]\n",
    "θ = [2, 1]\n",
    "# γ = [0, 0]\n",
    "# β = [0, -0]\n",
    "γ = [1, 1]\n",
    "β = [1, -0.5]\n",
    "\n",
    "include(\"model.ji\")"
   ],
   "outputs": [
    {
     "output_type": "stream",
     "name": "stderr",
     "text": [
      "WARNING: replacing module qgplsim.\n"
     ]
    },
    {
     "output_type": "execute_result",
     "data": {
      "text/plain": [
       "main (generic function with 2 methods)"
      ]
     },
     "metadata": {},
     "execution_count": 20
    }
   ],
   "metadata": {}
  },
  {
   "cell_type": "code",
   "execution_count": 22,
   "source": [
    "n = 200\n",
    "p = length(α)\n",
    "@time main(γ, θ, α, β, n)"
   ],
   "outputs": [
    {
     "output_type": "stream",
     "name": "stdout",
     "text": [
      "  2.226173 seconds (35.43 M allocations: 3.707 GiB, 24.03% gc time)\n"
     ]
    },
    {
     "output_type": "execute_result",
     "data": {
      "text/plain": [
       "([0.5994039277642657, -0.6865531752578701], [1.7722357020990764 1.6826580193104985])"
      ]
     },
     "metadata": {},
     "execution_count": 22
    }
   ],
   "metadata": {}
  },
  {
   "cell_type": "code",
   "execution_count": 23,
   "source": [
    "Theta = zeros(100, p)\n",
    "Alpha = zeros(100, p)\n",
    "import Base.Threads.@threads"
   ],
   "outputs": [],
   "metadata": {}
  },
  {
   "cell_type": "code",
   "execution_count": 12,
   "source": [
    "t = time()\n",
    "len = 50\n",
    "@threads for i in 1:2\n",
    "        for j in 1:len\n",
    "    Alpha[len*(i - 1) + j, :], Theta[len*(i - 1) + j, :] = main(γ, θ, α, β, n)\n",
    "    end\n",
    "end\n",
    "println(\"MC Computing time: \", time() - t)\n",
    "println(sum(Alpha, dims = 1))\n",
    "println(sum(Theta, dims = 1))"
   ],
   "outputs": [
    {
     "output_type": "stream",
     "name": "stdout",
     "text": [
      "MC Computing time: 184.00889897346497\n",
      "[-3.232658847877385 -1.5290780293284891]\n",
      "[42.39233377167564 94.99013746457358]\n"
     ]
    }
   ],
   "metadata": {}
  },
  {
   "cell_type": "code",
   "execution_count": 13,
   "source": [
    "ct, dc, mc = qgplsim.collection(sign.(Alpha))"
   ],
   "outputs": [
    {
     "output_type": "execute_result",
     "data": {
      "text/plain": [
       "(Any[[1.0, -1.0], [1.0, 1.0], [-1.0, 1.0], [-1.0, -1.0]], Dict{Any, Any}([-1.0, -1.0] => [23, 34, 36, 40, 42, 46, 49, 54, 56, 59, 60, 63, 67, 70, 73, 87, 91, 94, 96, 99], [1.0, -1.0] => [1, 3, 11, 20, 21, 22, 25, 29, 30, 31  …  64, 68, 71, 72, 75, 80, 83, 88, 92, 93], [-1.0, 1.0] => [8, 9, 10, 12, 13, 15, 17, 18, 19, 26  …  77, 79, 81, 82, 84, 86, 89, 95, 98, 100], [1.0, 1.0] => [2, 4, 5, 6, 7, 14, 16, 24, 41, 57, 61, 78, 85, 90, 97]), [-1.0, 1.0])"
      ]
     },
     "metadata": {},
     "execution_count": 13
    }
   ],
   "metadata": {}
  },
  {
   "cell_type": "code",
   "execution_count": 14,
   "source": [
    "mc"
   ],
   "outputs": [
    {
     "output_type": "execute_result",
     "data": {
      "text/plain": [
       "2-element Vector{Float64}:\n",
       " -1.0\n",
       "  1.0"
      ]
     },
     "metadata": {},
     "execution_count": 14
    }
   ],
   "metadata": {}
  },
  {
   "cell_type": "code",
   "execution_count": 17,
   "source": [
    "rAlpha = Alpha[dc[mc], :]\n",
    "rTheta = Theta[dc[mc], :]\n",
    "ns, = size(rAlpha)"
   ],
   "outputs": [
    {
     "output_type": "execute_result",
     "data": {
      "text/plain": [
       "(34, 2)"
      ]
     },
     "metadata": {},
     "execution_count": 17
    }
   ],
   "metadata": {}
  },
  {
   "cell_type": "code",
   "execution_count": 19,
   "source": [
    "sum(rAlpha, dims = 1)/ns"
   ],
   "outputs": [
    {
     "output_type": "execute_result",
     "data": {
      "text/plain": [
       "1×2 Matrix{Float64}:\n",
       " -0.642502  0.637289"
      ]
     },
     "metadata": {},
     "execution_count": 19
    }
   ],
   "metadata": {}
  },
  {
   "cell_type": "code",
   "execution_count": 18,
   "source": [
    "sum(rTheta, dims = 1)/ns"
   ],
   "outputs": [
    {
     "output_type": "execute_result",
     "data": {
      "text/plain": [
       "1×2 Matrix{Float64}:\n",
       " 0.860823  1.07853"
      ]
     },
     "metadata": {},
     "execution_count": 18
    }
   ],
   "metadata": {}
  },
  {
   "cell_type": "code",
   "execution_count": null,
   "source": [],
   "outputs": [],
   "metadata": {}
  }
 ],
 "metadata": {
  "kernelspec": {
   "display_name": "Julia 1.5.3",
   "language": "julia",
   "name": "julia-1.5"
  },
  "language_info": {
   "file_extension": ".jl",
   "mimetype": "application/julia",
   "name": "julia",
   "version": "1.5.3"
  }
 },
 "nbformat": 4,
 "nbformat_minor": 5
}