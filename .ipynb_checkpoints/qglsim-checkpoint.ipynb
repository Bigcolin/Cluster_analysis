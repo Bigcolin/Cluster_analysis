{
 "cells": [
  {
   "cell_type": "code",
   "execution_count": 21,
   "metadata": {},
   "outputs": [
    {
     "name": "stderr",
     "output_type": "stream",
     "text": [
      "WARNING: replacing module qgplsim.\n"
     ]
    },
    {
     "data": {
      "text/plain": [
       "main (generic function with 2 methods)"
      ]
     },
     "execution_count": 21,
     "metadata": {},
     "output_type": "execute_result"
    }
   ],
   "source": [
    "α = [-1, 1]\n",
    "θ = [1, 1]\n",
    "# γ = [0, 0]\n",
    "# β = [0, -0]\n",
    "γ = [1, 1]\n",
    "β = [1, -0.5]\n",
    "\n",
    "include(\"model.ji\")"
   ]
  },
  {
   "cell_type": "code",
   "execution_count": 23,
   "metadata": {},
   "outputs": [
    {
     "name": "stdout",
     "output_type": "stream",
     "text": [
      "  4.460206 seconds (31.09 M allocations: 3.267 GiB, 29.20% gc time)\n"
     ]
    },
    {
     "data": {
      "text/plain": [
       "([0.8805340856509261, -0.3513621010881447], [0.5688491108546775 1.488121528748243])"
      ]
     },
     "execution_count": 23,
     "metadata": {},
     "output_type": "execute_result"
    }
   ],
   "source": [
    "n = 200\n",
    "p = length(α)\n",
    "@time main(γ, θ, α, β, n)"
   ]
  },
  {
   "cell_type": "code",
   "execution_count": 32,
   "metadata": {},
   "outputs": [],
   "source": [
    "Theta = zeros(100, p)\n",
    "Alpha = zeros(100, p)\n",
    "import Base.Threads.@threads"
   ]
  },
  {
   "cell_type": "code",
   "execution_count": 38,
   "metadata": {},
   "outputs": [
    {
     "name": "stdout",
     "output_type": "stream",
     "text": [
      "MC Computing time: 401.46528911590576\n",
      "[3.715203125667789 -4.589151202567154]\n",
      "[20.77677303167818 58.18529916805319]\n"
     ]
    }
   ],
   "source": [
    "t = time()\n",
    "@threads for i in 1:5\n",
    "        for j in 1:20\n",
    "    Alpha[20*(i - 1) + j, :], Theta[20*(i - 1) + j, :] = main(γ, θ, α, β, n)\n",
    "    end\n",
    "end\n",
    "println(\"MC Computing time: \", time() - t)\n",
    "println(sum(Alpha, dims = 1))\n",
    "println(sum(Theta, dims = 1))"
   ]
  },
  {
   "cell_type": "code",
   "execution_count": 39,
   "metadata": {},
   "outputs": [
    {
     "data": {
      "text/plain": [
       "(Any[[1.0, -1.0], [-1.0, -1.0], [-1.0, 1.0], [1.0, 1.0]], Dict{Any,Any}([1.0, 1.0] => [10, 14, 20, 29, 33, 48, 50, 52, 69, 71, 72, 74, 82, 87, 93, 95, 96, 97, 99],[-1.0, -1.0] => [2, 5, 6, 12, 17, 24, 37, 44, 45, 51, 54, 59, 62, 63, 64, 66, 68, 84, 92, 94],[-1.0, 1.0] => [3, 7, 8, 9, 18, 21, 22, 23, 25, 34  …  61, 73, 76, 77, 79, 83, 85, 86, 89, 100],[1.0, -1.0] => [1, 4, 11, 13, 15, 16, 19, 26, 27, 28  …  67, 70, 75, 78, 80, 81, 88, 90, 91, 98]), [1.0, -1.0])"
      ]
     },
     "execution_count": 39,
     "metadata": {},
     "output_type": "execute_result"
    }
   ],
   "source": [
    "ct, dc, mc = qgplsim.collection(sign.(Alpha))"
   ]
  },
  {
   "cell_type": "code",
   "execution_count": 40,
   "metadata": {},
   "outputs": [
    {
     "data": {
      "text/plain": [
       "2-element Array{Float64,1}:\n",
       "  1.0\n",
       " -1.0"
      ]
     },
     "execution_count": 40,
     "metadata": {},
     "output_type": "execute_result"
    }
   ],
   "source": [
    "mc"
   ]
  },
  {
   "cell_type": "code",
   "execution_count": 41,
   "metadata": {},
   "outputs": [
    {
     "data": {
      "text/plain": [
       "33×2 Array{Float64,2}:\n",
       "  0.855189  1.26357\n",
       "  0.90859   1.00551\n",
       "  0.799064  1.27312\n",
       "  0.854768  1.11224\n",
       "  0.825376  1.34972\n",
       "  0.912858  0.942529\n",
       "  0.927492  0.985698\n",
       "  0.788444  1.38036\n",
       " -0.514694  0.847245\n",
       "  0.95103   1.00735\n",
       "  0.949672  1.13033\n",
       " -0.493208  1.0797\n",
       " -0.223073  0.378905\n",
       "  ⋮         \n",
       "  0.865341  0.84669\n",
       "  0.0       0.0\n",
       "  0.0       0.0\n",
       "  0.0       0.0\n",
       "  0.0       0.0\n",
       "  0.0       0.0\n",
       "  0.0       0.0\n",
       "  0.0       0.0\n",
       "  0.0       0.0\n",
       "  0.0       0.0\n",
       "  0.0       0.0\n",
       "  0.0       0.0"
      ]
     },
     "execution_count": 41,
     "metadata": {},
     "output_type": "execute_result"
    }
   ],
   "source": [
    "rAlpha = Alpha[dc[mc], :]\n",
    "rTheta = Theta[dc[mc], :]"
   ]
  },
  {
   "cell_type": "code",
   "execution_count": 42,
   "metadata": {},
   "outputs": [
    {
     "data": {
      "text/plain": [
       "1×2 Array{Float64,2}:\n",
       " 0.634662  -0.647911"
      ]
     },
     "execution_count": 42,
     "metadata": {},
     "output_type": "execute_result"
    }
   ],
   "source": [
    "sum(rAlpha, dims = 1)/33"
   ]
  },
  {
   "cell_type": "code",
   "execution_count": 43,
   "metadata": {},
   "outputs": [
    {
     "data": {
      "text/plain": [
       "1×2 Array{Float64,2}:\n",
       " 0.342753  0.646429"
      ]
     },
     "execution_count": 43,
     "metadata": {},
     "output_type": "execute_result"
    }
   ],
   "source": [
    "sum(rTheta, dims = 1)/33"
   ]
  },
  {
   "cell_type": "code",
   "execution_count": null,
   "metadata": {},
   "outputs": [],
   "source": []
  }
 ],
 "metadata": {
  "kernelspec": {
   "display_name": "Julia 1.5.3",
   "language": "julia",
   "name": "julia-1.5"
  },
  "language_info": {
   "file_extension": ".jl",
   "mimetype": "application/julia",
   "name": "julia",
   "version": "1.5.3"
  }
 },
 "nbformat": 4,
 "nbformat_minor": 5
}
