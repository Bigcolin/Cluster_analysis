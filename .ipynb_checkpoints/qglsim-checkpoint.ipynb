{
 "cells": [
  {
   "cell_type": "code",
   "execution_count": 22,
   "id": "rapid-peninsula",
   "metadata": {},
   "outputs": [
    {
     "name": "stderr",
     "output_type": "stream",
     "text": [
      "WARNING: replacing module qgplsim.\n"
     ]
    },
    {
     "data": {
      "text/plain": [
       "main (generic function with 2 methods)"
      ]
     },
     "execution_count": 22,
     "metadata": {},
     "output_type": "execute_result"
    }
   ],
   "source": [
    "α = [-1, 1]\n",
    "θ = [1, 1]\n",
    "# γ = [0, 0]\n",
    "# β = [0, -0]\n",
    "γ = [1, 1]\n",
    "β = [1, -0.5]\n",
    "\n",
    "include(\"model.ji\")"
   ]
  },
  {
   "cell_type": "code",
   "execution_count": 23,
   "id": "established-sponsorship",
   "metadata": {},
   "outputs": [
    {
     "name": "stdout",
     "output_type": "stream",
     "text": [
      "alpha => [0.6453610091377127, 0.5721910778089577]\n",
      " theta =>[-0.36045803387731523 0.9290185828407629]\n",
      "\n"
     ]
    },
    {
     "data": {
      "text/plain": [
       "([0.6453610091377127, 0.5721910778089577], [-0.36045803387731523 0.9290185828407629])"
      ]
     },
     "execution_count": 23,
     "metadata": {},
     "output_type": "execute_result"
    }
   ],
   "source": [
    "main(γ, θ, α, β, 400)"
   ]
  },
  {
   "cell_type": "code",
   "execution_count": null,
   "id": "binding-gather",
   "metadata": {},
   "outputs": [],
   "source": []
  }
 ],
 "metadata": {
  "kernelspec": {
   "display_name": "Julia 1.6.0",
   "language": "julia",
   "name": "julia-1.6"
  },
  "language_info": {
   "file_extension": ".jl",
   "mimetype": "application/julia",
   "name": "julia",
   "version": "1.6.0"
  }
 },
 "nbformat": 4,
 "nbformat_minor": 5
}
