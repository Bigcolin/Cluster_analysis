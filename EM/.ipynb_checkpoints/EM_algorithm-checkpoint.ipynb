{
 "cells": [
  {
   "cell_type": "code",
   "execution_count": 218,
   "metadata": {},
   "outputs": [],
   "source": [
    "import numpy as np\n",
    "from sklearn.preprocessing import scale\n",
    "import scipy.stats as st\n",
    "import matplotlib.pyplot as plt\n",
    "import pylab\n",
    "data = np.loadtxt('oldfaith.txt')\n",
    "\n",
    "X = scale(data)    "
   ]
  },
  {
   "cell_type": "code",
   "execution_count": 219,
   "metadata": {},
   "outputs": [
    {
     "data": {
      "text/plain": [
       "array([1., 1.])"
      ]
     },
     "execution_count": 219,
     "metadata": {},
     "output_type": "execute_result"
    }
   ],
   "source": [
    "np.var(X, axis=0)"
   ]
  },
  {
   "cell_type": "code",
   "execution_count": 220,
   "metadata": {},
   "outputs": [],
   "source": [
    "def dist(vec1, vec2):\n",
    "    return np.linalg.norm(vec1 - vec2)\n",
    "\n",
    "def kmeans(X, n_cluster=2, max_iter=100): # 算法内不再做标准化\n",
    "    n_n, n_p = X.shape\n",
    "    mu0 = X[range(n_cluster, n_cluster*(n_cluster + 1), n_cluster), :] # 随机选mu的初值\n",
    "    mu1 = np.zeros([n_cluster, n_p])\n",
    "    index = np.zeros([n_n, n_cluster]) # index[j, :] = [0, 1] or [1, 0]\n",
    "    iter_time = 0\n",
    "    res = 100\n",
    "    eps = 1e-2\n",
    "    \n",
    "    while iter_time < max_iter and res > eps:\n",
    "        index = np.zeros(index.shape)\n",
    "        # E-step\n",
    "        for n in range(n_n):\n",
    "            temp = 1e8\n",
    "            for k in range(n_cluster):\n",
    "                ds = dist(X[n,:], mu0[k,:])\n",
    "                if ds < temp:\n",
    "                    temp = ds\n",
    "                    ind = k\n",
    "            # 迭代中根据dist()给index赋值,即决定每个x属于哪个聚类                    \n",
    "            index[n,ind] = 1 \n",
    "        # M-step\n",
    "        for k in range(n_cluster):\n",
    "            sum_k = 0 # 属于k类的总x数\n",
    "            for n in range(n_n):\n",
    "                mu1[k,:] += index[n,k]*X[n,:]\n",
    "                sum_k += index[n,k]\n",
    "            \n",
    "            mu1[k,:] /= sum_k\n",
    "        \n",
    "        res = dist(mu1, mu0)          \n",
    "        mu0 = mu1\n",
    "        mu1 = np.zeros(mu1.shape)\n",
    "        iter_time += 1\n",
    "        \n",
    "    if iter_time == max_iter:\n",
    "        print('reach the max iter_time limitation, pls check your program')\n",
    "        \n",
    "    return mu0, index                                       "
   ]
  },
  {
   "cell_type": "code",
   "execution_count": 253,
   "metadata": {},
   "outputs": [],
   "source": [
    "mu,ind = kmeans(X)"
   ]
  },
  {
   "cell_type": "code",
   "execution_count": 267,
   "metadata": {},
   "outputs": [
    {
     "data": {
      "text/plain": [
       "<matplotlib.collections.PathCollection at 0x1a2ac6ed30>"
      ]
     },
     "execution_count": 267,
     "metadata": {},
     "output_type": "execute_result"
    },
    {
     "data": {
      "image/png": "[encoded data removed]",
      "text/plain": [
       "<Figure size 432x288 with 1 Axes>"
      ]
     },
     "metadata": {},
     "output_type": "display_data"
    }
   ],
   "source": [
    "fig1 = plt.figure()\n",
    "ax1 = fig1.add_subplot(111)\n",
    "col = []\n",
    "for k in range(X.shape[0]):\n",
    "    if ind[k,0] == 0:\n",
    "        col.append('r')\n",
    "    else:\n",
    "        col.append('g')\n",
    "        \n",
    "ax1.scatter(X[:,0],X[:,1],s=5,c=col,marker='o')   \n",
    "ax1.scatter(mu[:,0], mu[:,1],s=50,c='y',marker='o')\n"
   ]
  },
  {
   "cell_type": "code",
   "execution_count": 223,
   "metadata": {},
   "outputs": [],
   "source": [
    "class em:\n",
    "    def __init__(self, X, N_cluster=2, max_iter=10):\n",
    "        n_n, n_p = X.shape  \n",
    "        self.n_c = N_cluster\n",
    "        \n",
    "        mu, index = kmeans(X, N_cluster)       \n",
    "        pai = np.sum(index, axis=0)/n_n     \n",
    "        cov0 = np.diag(np.ones(n_p))\n",
    "        cov = np.zeros([N_cluster, n_p, n_p])        \n",
    "        cov += cov0\n",
    "        \n",
    "        iter_time = 0\n",
    "        lnq = 0 \n",
    "        res = 1e3\n",
    "        eps = 1e-3\n",
    "        \n",
    "        while iter_time < max_iter and res > eps:\n",
    "            # E-step\n",
    "            posterior = np.zeros(index.shape) # p(z | x, theta)\n",
    "                       \n",
    "            for n in range(n_n):\n",
    "                for k in range(N_cluster):\n",
    "                    posterior[n,k] = pai[k]*st.multivariate_normal.pdf(X[n,],mu[k,],cov[k,])\n",
    "                \n",
    "            posterior /= np.sum(posterior, axis=1).reshape(n_n,1) # reshape to broadcast\n",
    "            \n",
    "            # M-step\n",
    "            nk = np.sum(posterior, axis=0)\n",
    "            pai = nk / n_n\n",
    "            mu = np.zeros(mu.shape)\n",
    "            cov = np.zeros(cov.shape)\n",
    "            \n",
    "            for k in range(N_cluster):\n",
    "                mu[k,] = np.sum(posterior[:,k].reshape(n_n,1)*X, axis=0) # reshape to broadcast\n",
    "                mu[k,] /= nk[k]\n",
    "                \n",
    "                for n in range(n_n):\n",
    "                    cov[k,] += posterior[n,k]*(X[n,] - mu[k,]).reshape(n_p,1)@(X[n,] - mu[k,]).reshape(1,n_p)\n",
    "                \n",
    "                cov[k,] /= nk[k]\n",
    "            \n",
    "            self.mu = mu\n",
    "            self.cov = cov\n",
    "            self.pai = pai\n",
    "            self.posterior = posterior\n",
    "            # Evaluate the log likelihood\n",
    "            lnq_ = 0\n",
    "            for n in range(n_n):\n",
    "                lnq_ += np.log(self.pdf(X[n,]))\n",
    "                \n",
    "            res = lnq_ - lnq\n",
    "            lnq = lnq_\n",
    "            iter_time += 1\n",
    "            \n",
    "            if iter_time == max_iter:\n",
    "                print('reach the max iter_time limitation, pls check your program')\n",
    "   \n",
    "    def pdf(self,vec):\n",
    "        p = 0\n",
    "        for k in range(self.n_c):\n",
    "            p += self.pai[k]*st.multivariate_normal.pdf(vec, self.mu[k,], self.cov[k,]) \n",
    "        return p"
   ]
  },
  {
   "cell_type": "code",
   "execution_count": 224,
   "metadata": {},
   "outputs": [],
   "source": [
    "em_oldfaith = em(X)\n",
    "po = em_oldfaith.posterior"
   ]
  },
  {
   "cell_type": "code",
   "execution_count": 247,
   "metadata": {},
   "outputs": [
    {
     "data": {
      "text/plain": [
       "[<matplotlib.lines.Line2D at 0x1a29e13eb8>]"
      ]
     },
     "execution_count": 247,
     "metadata": {},
     "output_type": "execute_result"
    },
    {
     "data": {
      "image/png": "[encoded data removed]",
      "text/plain": [
       "<Figure size 432x288 with 1 Axes>"
      ]
     },
     "metadata": {},
     "output_type": "display_data"
    }
   ],
   "source": [
    "\n",
    "x, y = np.mgrid[-2.5:2.5:.01, -2.5:2.5:.01]\n",
    "x_, y_ = X[:,0], X[:,1]\n",
    "cm_ = plt.get_cmap(\"RdYlGn\")\n",
    "col = cm_(po[:,0])\n",
    "pos = np.dstack((x, y))\n",
    "fig2 = plt.figure()\n",
    "ax2 = fig2.add_subplot(111)\n",
    "ax2.contourf(x, y, em_oldfaith.pdf(pos))\n",
    "ax2.scatter(x_,y_,s=5,c=col,marker='o')\n",
    "ax2.plot(em_oldfaith.mu[:,0],em_oldfaith.mu[:,1], 'yo')\n"
   ]
  },
  {
   "cell_type": "code",
   "execution_count": null,
   "metadata": {},
   "outputs": [],
   "source": []
  }
 ],
 "metadata": {
  "kernelspec": {
   "display_name": "Python 3",
   "language": "python",
   "name": "python3"
  },
  "language_info": {
   "codemirror_mode": {
    "name": "ipython",
    "version": 3
   },
   "file_extension": ".py",
   "mimetype": "text/x-python",
   "name": "python",
   "nbconvert_exporter": "python",
   "pygments_lexer": "ipython3",
   "version": "3.6.5"
  }
 },
 "nbformat": 4,
 "nbformat_minor": 2
}
